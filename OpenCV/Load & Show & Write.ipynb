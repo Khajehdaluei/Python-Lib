{
 "cells": [
  {
   "cell_type": "code",
   "execution_count": null,
   "id": "e5e66b3f",
   "metadata": {},
   "outputs": [],
   "source": [
    "import cv2"
   ]
  },
  {
   "cell_type": "markdown",
   "id": "cba1d3aa",
   "metadata": {},
   "source": [
    "### Load & Show & save"
   ]
  },
  {
   "cell_type": "code",
   "execution_count": null,
   "id": "070bf960",
   "metadata": {},
   "outputs": [],
   "source": [
    "img = cv2.imread('data/img.jpg')"
   ]
  },
  {
   "cell_type": "code",
   "execution_count": null,
   "id": "07844f90",
   "metadata": {},
   "outputs": [],
   "source": [
    "cv2.imshow('new', img)\n",
    "cv2.waitKey(0)               # exit window any click\n",
    "cv2.destroyAllWindows()      # del img in memory"
   ]
  },
  {
   "cell_type": "code",
   "execution_count": null,
   "id": "0e78df12",
   "metadata": {},
   "outputs": [],
   "source": [
    "cv2.imwrite('img.jpg',img)"
   ]
  }
 ],
 "metadata": {
  "kernelspec": {
   "display_name": "Python 3 (ipykernel)",
   "language": "python",
   "name": "python3"
  },
  "language_info": {
   "codemirror_mode": {
    "name": "ipython",
    "version": 3
   },
   "file_extension": ".py",
   "mimetype": "text/x-python",
   "name": "python",
   "nbconvert_exporter": "python",
   "pygments_lexer": "ipython3",
   "version": "3.9.7"
  }
 },
 "nbformat": 4,
 "nbformat_minor": 5
}
