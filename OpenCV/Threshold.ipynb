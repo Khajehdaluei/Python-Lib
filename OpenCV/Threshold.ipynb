{
 "cells": [
  {
   "cell_type": "code",
   "execution_count": 1,
   "id": "6bd81e1c",
   "metadata": {},
   "outputs": [],
   "source": [
    "import cv2\n",
    "import numpy as np"
   ]
  },
  {
   "cell_type": "markdown",
   "id": "9def5b3b",
   "metadata": {},
   "source": [
    "# Marge Image (Remove BG)"
   ]
  },
  {
   "cell_type": "code",
   "execution_count": 19,
   "id": "9680538a",
   "metadata": {},
   "outputs": [],
   "source": [
    "img = cv2.imread('data/img.jpg')\n",
    "logo = cv2.imread('data/logo.jpg')\n",
    "\n",
    "# preproccessing\n",
    "logo = cv2.resize(src=logo, dsize=(100,110))\n",
    "row, col, channels = logo.shape\n",
    "img_ = img[0:row, 0:col]\n",
    "logo_ = cv2.cvtColor(logo, cv2.COLOR_BGR2GRAY)\n",
    "\n",
    "# mask\n",
    "ret, mask = cv2.threshold(src=logo_, thresh=210, maxval=255, type=cv2.THRESH_BINARY)\n",
    "mask_inv = cv2.bitwise_not(mask)\n",
    "\n",
    "# replase mask\n",
    "img_ = cv2.bitwise_and(src1=img_, src2=img_, mask=mask)\n",
    "logo_ = cv2.bitwise_and(src1=logo, src2=logo , mask=mask_inv)\n",
    "\n",
    "# marge\n",
    "marge = cv2.add(src1=img_, src2=logo_)\n",
    "\n",
    "img[0:row,0:col] = marge\n",
    "\n",
    "# show\n",
    "# cv2.imshow('mask', mask)\n",
    "# cv2.imshow('mask inv', mask_inv)\n",
    "# cv2.imshow('img_mask', img_)\n",
    "# cv2.imshow('logo_mask', logo_)\n",
    "# cv2.imshow('marge', marge)\n",
    "cv2.imshow('final', img)\n",
    "\n",
    "cv2.waitKey(0)\n",
    "cv2.destroyAllWindows()"
   ]
  },
  {
   "cell_type": "markdown",
   "id": "2bb90cf3",
   "metadata": {},
   "source": [
    "# Select Text"
   ]
  },
  {
   "cell_type": "code",
   "execution_count": 4,
   "id": "795265d2",
   "metadata": {},
   "outputs": [],
   "source": [
    "img = cv2.imread('data/book.jpg')\n",
    "gray = cv2.cvtColor(img, cv2.COLOR_BGR2GRAY)\n",
    "\n",
    "ret, mask_c = cv2.threshold(src=img, thresh=12, maxval=255, type=cv2.THRESH_BINARY)\n",
    "ret, mask_g = cv2.threshold(src=gray, thresh=12, maxval=255, type=cv2.THRESH_BINARY)\n",
    "adap_mask = cv2.adaptiveThreshold(src=gray, maxValue=255, adaptiveMethod=cv2.ADAPTIVE_THRESH_GAUSSIAN_C,\n",
    "                                  thresholdType=cv2.THRESH_BINARY, blockSize=115, C=1)\n",
    "\n",
    "# show\n",
    "cv2.imshow('orginal', img)\n",
    "cv2.imshow('mask Color', mask_c)\n",
    "cv2.imshow('mask gray', mask_g)\n",
    "cv2.imshow('adap mask', adap_mask)\n",
    "\n",
    "cv2.waitKey(0)\n",
    "cv2.destroyAllWindows()"
   ]
  },
  {
   "cell_type": "markdown",
   "id": "fe292177",
   "metadata": {},
   "source": [
    "# Remove BG (HCV ColorMod)"
   ]
  },
  {
   "cell_type": "code",
   "execution_count": 33,
   "id": "7d44c9c0",
   "metadata": {},
   "outputs": [],
   "source": [
    "cap = cv2.VideoCapture(0)\n",
    "\n",
    "while True:\n",
    "    _,frame = cap.read()\n",
    "    \n",
    "#     # hcv --> H = color, C = Saturation(ghelzat), V = brighter\n",
    "#     hcv = cv2.cvtColor(frame, cv2.COLOR_BGR2HSV)\n",
    "#     lower = np.array([0,0,0])\n",
    "#     upper = np.array([255,100,150])\n",
    "#     mask = cv2.inRange(hcv, lower, upper)\n",
    "    \n",
    "    # BGR\n",
    "    lower = np.array([0,0,0])\n",
    "    upper = np.array([200,200,200])\n",
    "    mask = cv2.inRange(frame, lower, upper)\n",
    "    \n",
    "    res = cv2.bitwise_and(frame, frame, mask=mask)\n",
    "    \n",
    "    cv2.imshow('frame', res)\n",
    "    \n",
    "    if cv2.waitKey(1) == ord('q'):\n",
    "        break\n",
    "        \n",
    "cap.release()\n",
    "cv2.destroyAllWindows()   "
   ]
  }
 ],
 "metadata": {
  "kernelspec": {
   "display_name": "deep",
   "language": "python",
   "name": "deep_"
  },
  "language_info": {
   "codemirror_mode": {
    "name": "ipython",
    "version": 3
   },
   "file_extension": ".py",
   "mimetype": "text/x-python",
   "name": "python",
   "nbconvert_exporter": "python",
   "pygments_lexer": "ipython3",
   "version": "3.9.7"
  }
 },
 "nbformat": 4,
 "nbformat_minor": 5
}
