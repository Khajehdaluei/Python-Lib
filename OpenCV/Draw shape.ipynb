{
 "cells": [
  {
   "cell_type": "code",
   "execution_count": null,
   "id": "b5fa3a29",
   "metadata": {},
   "outputs": [],
   "source": [
    "import cv2\n",
    "import numpy as np"
   ]
  },
  {
   "cell_type": "code",
   "execution_count": null,
   "id": "dfbe7cdf",
   "metadata": {},
   "outputs": [],
   "source": [
    "img = cv2.imread('data/img.jpg')"
   ]
  },
  {
   "cell_type": "markdown",
   "id": "331a5e7f",
   "metadata": {},
   "source": [
    "# Text"
   ]
  },
  {
   "cell_type": "code",
   "execution_count": null,
   "id": "00dde64c",
   "metadata": {},
   "outputs": [],
   "source": [
    "font = cv2.FONT_ITALIC\n",
    "img_text = cv2.putText(img=img, text='Hello World!', org=(200,200), fontFace=font, fontScale=1, color=(255,0,255), thickness=5)\n",
    "\n",
    "cv2.imshow('text', img_text)\n",
    "\n",
    "cv2.waitKey(0)\n",
    "cv2.destroyAllWindows()"
   ]
  },
  {
   "cell_type": "markdown",
   "id": "11ae3024",
   "metadata": {},
   "source": [
    "# Shape"
   ]
  },
  {
   "cell_type": "markdown",
   "id": "347ae87b",
   "metadata": {},
   "source": [
    "#### Line"
   ]
  },
  {
   "cell_type": "code",
   "execution_count": null,
   "id": "537c4fc3",
   "metadata": {},
   "outputs": [],
   "source": [
    "img_line = cv2.line(img=img, pt1=(150,150), pt2=(450,250), color=(125,146,32), thickness=5)\n",
    "\n",
    "cv2.imshow('line', img_line)\n",
    "\n",
    "cv2.waitKey(0)\n",
    "cv2.destroyAllWindows()"
   ]
  },
  {
   "cell_type": "markdown",
   "id": "0e75c8ef",
   "metadata": {},
   "source": [
    "#### circle"
   ]
  },
  {
   "cell_type": "code",
   "execution_count": null,
   "id": "d83f5259",
   "metadata": {},
   "outputs": [],
   "source": [
    "img_circle = cv2.circle(img=img, center=(300,200), radius=150, color=(64,15,255), thickness=5) # thickness=cv2.FILLED\n",
    "\n",
    "cv2.imshow('circle', img_circle)\n",
    "\n",
    "cv2.waitKey(0)\n",
    "cv2.destroyAllWindows()"
   ]
  },
  {
   "cell_type": "markdown",
   "id": "a919af31",
   "metadata": {},
   "source": [
    "#### rectangle"
   ]
  },
  {
   "cell_type": "code",
   "execution_count": null,
   "id": "6d53d183",
   "metadata": {},
   "outputs": [],
   "source": [
    "img_rectangle = cv2.rectangle(img=img, pt1=(150,150), pt2=(450,250), color=(5,6,75), thickness=5) # thickness=cv2.FILLED\n",
    "                                                   \n",
    "cv2.imshow('rectangle', img_rectangle)\n",
    "\n",
    "cv2.waitKey(0)\n",
    "cv2.destroyAllWindows()"
   ]
  },
  {
   "cell_type": "markdown",
   "id": "42b7e94a",
   "metadata": {},
   "source": [
    "#### poly lines"
   ]
  },
  {
   "cell_type": "code",
   "execution_count": null,
   "id": "105ff0b5",
   "metadata": {},
   "outputs": [],
   "source": [
    "pts = np.array([[150,180],[300,150],[450,200],[300,300],[190,300]])\n",
    "img_polylines = cv2.polylines(img=img, pts=[pts], isClosed=True, color=(43,34,70), thickness=5) # thickness=cv2.FILLED\n",
    "                                                   \n",
    "cv2.imshow('rectangle', img_polylines)\n",
    "\n",
    "cv2.waitKey(0)\n",
    "cv2.destroyAllWindows()"
   ]
  }
 ],
 "metadata": {
  "kernelspec": {
   "display_name": "deep",
   "language": "python",
   "name": "deep_"
  },
  "language_info": {
   "codemirror_mode": {
    "name": "ipython",
    "version": 3
   },
   "file_extension": ".py",
   "mimetype": "text/x-python",
   "name": "python",
   "nbconvert_exporter": "python",
   "pygments_lexer": "ipython3",
   "version": "3.9.7"
  }
 },
 "nbformat": 4,
 "nbformat_minor": 5
}
