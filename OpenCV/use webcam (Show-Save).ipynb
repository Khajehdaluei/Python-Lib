{
 "cells": [
  {
   "cell_type": "code",
   "execution_count": null,
   "id": "168ff9f1",
   "metadata": {},
   "outputs": [],
   "source": [
    "import cv2"
   ]
  },
  {
   "cell_type": "markdown",
   "id": "4091fa04",
   "metadata": {},
   "source": [
    "# use webcam"
   ]
  },
  {
   "cell_type": "markdown",
   "id": "40ddfad3",
   "metadata": {},
   "source": [
    "## Read & Show & Save"
   ]
  },
  {
   "cell_type": "code",
   "execution_count": null,
   "id": "a711b6e2",
   "metadata": {},
   "outputs": [],
   "source": [
    "cap = cv2.VideoCapture(0)  # 0 --> first conect\n",
    "\n",
    "fourcc = cv2.VideoWriter_fourcc(*'XVID')\n",
    "out = cv2.VideoWriter(filename='OutPutWebcam.avi', fourcc=fourcc, fps=24.0, frameSize=(640,480))\n",
    "\n",
    "while True:\n",
    "    ret, frame = cap.read()                             # Read\n",
    "    \n",
    "    #preproccessing\n",
    "    frame = cv2.flip(frame, 1)                          # filip frame\n",
    "#     frame = cv2.cvtColor(frame, cv2.COLOR_BGR2GRAY)     # convert color\n",
    "    \n",
    "    if ret == True:\n",
    "        cv2.imshow('cap',frame)                         # Show\n",
    "        \n",
    "        out.write(frame)                                # Save Video\n",
    "        \n",
    "        if cv2.waitKey(1) == ord('c'):                  # get and save image\n",
    "            cv2.imwrite('OutPutWebcam.jpg', frame)\n",
    "    \n",
    "    if cv2.waitKey(1) & 0xFF == ord('q'): # or cv2.waitKey(1) == ord('q')\n",
    "        break\n",
    "\n",
    "cap.release()\n",
    "out.release()\n",
    "cv2.destroyAllWindows()"
   ]
  }
 ],
 "metadata": {
  "kernelspec": {
   "display_name": "deep",
   "language": "python",
   "name": "deep_"
  },
  "language_info": {
   "codemirror_mode": {
    "name": "ipython",
    "version": 3
   },
   "file_extension": ".py",
   "mimetype": "text/x-python",
   "name": "python",
   "nbconvert_exporter": "python",
   "pygments_lexer": "ipython3",
   "version": "3.9.7"
  }
 },
 "nbformat": 4,
 "nbformat_minor": 5
}
