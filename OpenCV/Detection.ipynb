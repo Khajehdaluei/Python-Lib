{
 "cells": [
  {
   "cell_type": "code",
   "execution_count": 1,
   "id": "1561bc6b",
   "metadata": {},
   "outputs": [],
   "source": [
    "import cv2\n",
    "import numpy as np"
   ]
  },
  {
   "cell_type": "markdown",
   "id": "64dd068b",
   "metadata": {},
   "source": [
    "# Edge detection"
   ]
  },
  {
   "cell_type": "code",
   "execution_count": null,
   "id": "69ebe177",
   "metadata": {},
   "outputs": [],
   "source": [
    "cap = cv2.VideoCapture(0)\n",
    "\n",
    "while True:\n",
    "    _, frame = cap.read()\n",
    "    \n",
    "    # Laplacian Method\n",
    "    Laplacian = cv2.Laplacian(src=frame, ddepth=cv2.CV_8U)\n",
    "    # Sobel\n",
    "    SobelX = cv2.Sobel(src=frame, ddepth=cv2.CV_8U, dx=1, dy=0, ksize=5)\n",
    "    SobelY = cv2.Sobel(src=frame, ddepth=cv2.CV_8U, dx=0, dy=1, ksize=5)\n",
    "    # Canny\n",
    "    Canny = cv2.Canny(image=frame, threshold1=100, threshold2=200)\n",
    "    \n",
    "    # Show\n",
    "    cv2.imshow('frame', frame)\n",
    "    cv2.imshow('Laplacian', Laplacian)\n",
    "    cv2.imshow('SobelX', SobelX)\n",
    "    cv2.imshow('SobelY', SobelY)\n",
    "    cv2.imshow('Canny', Canny)\n",
    "    \n",
    "    if cv2.waitKey(1) == ord('q'):\n",
    "        break\n",
    "        \n",
    "cap.release()\n",
    "cv2.destroyAllWindows()"
   ]
  },
  {
   "cell_type": "markdown",
   "id": "a96ea592",
   "metadata": {},
   "source": [
    "# Object detection"
   ]
  },
  {
   "cell_type": "code",
   "execution_count": null,
   "id": "62ce71d5",
   "metadata": {},
   "outputs": [],
   "source": [
    "game = cv2.imread('data/game.jpg')\n",
    "coin = cv2.imread('data/game_coin2.jpg')\n",
    "\n",
    "# conv to gray\n",
    "game_gray = cv2.cvtColor(game, cv2.COLOR_BGR2GRAY)\n",
    "coin_gray = cv2.cvtColor(coin, cv2.COLOR_BGR2GRAY)\n",
    "# Shape coin\n",
    "w, h, c = coin.shape\n",
    "\n",
    "# Detecton\n",
    "res = cv2.matchTemplate(image=game_gray, templ=coin_gray, method=cv2.TM_CCOEFF_NORMED)\n",
    "# select detection \n",
    "thershold = 0.8\n",
    "loc = np.where(res >= thershold)\n",
    "# drow select detection\n",
    "for pt in zip(*loc[::-1]):\n",
    "    cv2.rectangle(game, pt, (pt[0]+w, pt[1]+h), (0,0,255),1)\n",
    "\n",
    "# show\n",
    "cv2.imshow('Detection',res)\n",
    "cv2.imshow('bord',game)\n",
    "\n",
    "\n",
    "cv2.waitKey(0)\n",
    "cv2.destroyAllWindows()"
   ]
  },
  {
   "cell_type": "markdown",
   "id": "370e49cb",
   "metadata": {},
   "source": [
    "# Corner detection"
   ]
  },
  {
   "cell_type": "code",
   "execution_count": 25,
   "id": "88d3e4dd",
   "metadata": {},
   "outputs": [],
   "source": [
    "img = cv2.imread('data/corner.jpg')\n",
    "\n",
    "# conv to gray\n",
    "gray = cv2.cvtColor(img,cv2.COLOR_BGR2GRAY)\n",
    "gray = np.float32(gray)\n",
    "\n",
    "# Detecton\n",
    "corners = cv2.goodFeaturesToTrack(image=gray, maxCorners=200, qualityLevel=0.14, minDistance=5)\n",
    "corners = np.int0(corners)\n",
    "# drow select detection\n",
    "for corner in corners:\n",
    "    x,y = corner.ravel()\n",
    "    cv2.circle(img, (x,y), 3, (0,0,255), 3)\n",
    "\n",
    "# show\n",
    "cv2.imshow('corners',img)\n",
    "\n",
    "cv2.waitKey(0)\n",
    "cv2.destroyAllWindows()"
   ]
  },
  {
   "cell_type": "markdown",
   "id": "9d4526dc",
   "metadata": {},
   "source": [
    "# Motion Detection"
   ]
  },
  {
   "cell_type": "code",
   "execution_count": 2,
   "id": "5c5cb5d1",
   "metadata": {},
   "outputs": [],
   "source": [
    "cap = cv2.VideoCapture(0)\n",
    "fg = cv2.createBackgroundSubtractorMOG2()\n",
    "# fg = cv2.createBackgroundSubtractorKNN()\n",
    "\n",
    "while True:\n",
    "    _,frame = cap.read()\n",
    "    fmask = fg.apply(frame)\n",
    "    \n",
    "    cv2.imshow('Org', frame)\n",
    "    cv2.imshow('Mask', fmask)\n",
    "    \n",
    "    if cv2.waitKey(1) == ord('q'):\n",
    "        break\n",
    "        \n",
    "cap.release()\n",
    "cv2.destroyAllWindows()"
   ]
  },
  {
   "cell_type": "code",
   "execution_count": null,
   "id": "cd5a35dd",
   "metadata": {},
   "outputs": [],
   "source": []
  }
 ],
 "metadata": {
  "kernelspec": {
   "display_name": "deep",
   "language": "python",
   "name": "deep_"
  },
  "language_info": {
   "codemirror_mode": {
    "name": "ipython",
    "version": 3
   },
   "file_extension": ".py",
   "mimetype": "text/x-python",
   "name": "python",
   "nbconvert_exporter": "python",
   "pygments_lexer": "ipython3",
   "version": "3.9.7"
  }
 },
 "nbformat": 4,
 "nbformat_minor": 5
}
