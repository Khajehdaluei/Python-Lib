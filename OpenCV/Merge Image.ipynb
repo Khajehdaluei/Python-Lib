{
 "cells": [
  {
   "cell_type": "code",
   "execution_count": null,
   "id": "1c0edba9",
   "metadata": {},
   "outputs": [],
   "source": [
    "import cv2"
   ]
  },
  {
   "cell_type": "code",
   "execution_count": null,
   "id": "643a337c",
   "metadata": {},
   "outputs": [],
   "source": [
    "# Load\n",
    "img1 = cv2.imread('data/img1.jpg')\n",
    "img2 = cv2.imread('data/img2.jpg')\n",
    "\n",
    "# Merge Image\n",
    "add1 = img1 + img2\n",
    "add2 = cv2.add(img1, img2)\n",
    "add3 = cv2.addWeighted(img1, 0.7, img2, 0.4, 0)\n",
    "\n",
    "# Show\n",
    "cv2.imshow('img1',img1)\n",
    "cv2.imshow('img2',img2)\n",
    "cv2.imshow('add1',add1)\n",
    "cv2.imshow('add2',add2)\n",
    "cv2.imshow('add3',add3)\n",
    "\n",
    "# Close\n",
    "cv2.waitKey(0)\n",
    "cv2.destroyAllWindows()"
   ]
  }
 ],
 "metadata": {
  "kernelspec": {
   "display_name": "deep",
   "language": "python",
   "name": "deep_"
  },
  "language_info": {
   "codemirror_mode": {
    "name": "ipython",
    "version": 3
   },
   "file_extension": ".py",
   "mimetype": "text/x-python",
   "name": "python",
   "nbconvert_exporter": "python",
   "pygments_lexer": "ipython3",
   "version": "3.9.7"
  }
 },
 "nbformat": 4,
 "nbformat_minor": 5
}
