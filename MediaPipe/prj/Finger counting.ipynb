{
 "cells": [
  {
   "cell_type": "markdown",
   "id": "2b3ec8b6",
   "metadata": {},
   "source": [
    "<div style=\"direction:rtl;text-align:center\"><img src=\"https://dl.mohammadkh.ir/logo.png\" alt=\"Mohammadkh.ir\" style=\"width: 250px;\"/></div>\n",
    "<h1><div style=\"direction:rtl;text-align:center\">MediaPipe</div></h1>"
   ]
  },
  {
   "cell_type": "code",
   "execution_count": 1,
   "id": "6d0a8308",
   "metadata": {},
   "outputs": [],
   "source": [
    "import cv2\n",
    "import mediapipe as mp\n",
    "import time"
   ]
  },
  {
   "cell_type": "code",
   "execution_count": 2,
   "id": "a9229908",
   "metadata": {},
   "outputs": [],
   "source": [
    "# detector\n",
    "mpHands = mp.solutions.hands\n",
    "hands = mpHands.Hands()\n",
    "mpDraw = mp.solutions.drawing_utils"
   ]
  },
  {
   "cell_type": "code",
   "execution_count": 3,
   "id": "f6c2d1fb",
   "metadata": {},
   "outputs": [],
   "source": [
    "# cont val\n",
    "\n",
    "# size frame\n",
    "wCam, hCam = 640, 480\n",
    "\n",
    "# frame per sec\n",
    "CTime = 0\n",
    "PTime = 0\n",
    "cap = cv2.VideoCapture(0)\n",
    "cap.set(3, wCam)\n",
    "cap.set(4, hCam)\n",
    "\n",
    "# num loc top finger\n",
    "tipsId = [4, 8, 12, 16, 20]"
   ]
  },
  {
   "cell_type": "code",
   "execution_count": 5,
   "id": "7fb294d3",
   "metadata": {},
   "outputs": [],
   "source": [
    "while True:\n",
    "    # read frame\n",
    "    success, frame = cap.read()\n",
    "\n",
    "    if frame is None:\n",
    "        break\n",
    "        \n",
    "    # preproccess\n",
    "    frame = cv2.flip(frame, 1)\n",
    "    RGBframe = cv2.cvtColor(frame, cv2.COLOR_BGR2RGB)\n",
    "    \n",
    "    # predict\n",
    "    results = hands.process(RGBframe)\n",
    "    \n",
    "\n",
    "    # check funid hand\n",
    "    if results.multi_hand_landmarks:\n",
    "        # drew landmarks hands\n",
    "        for handLms in results.multi_hand_landmarks:\n",
    "            mpDraw.draw_landmarks(frame, handLms, mpHands.HAND_CONNECTIONS)\n",
    "\n",
    "            \n",
    "    # list loc finger\n",
    "    lmList = []\n",
    "    # check funid hand\n",
    "    if results.multi_hand_landmarks:\n",
    "        # 0 -> first hand\n",
    "        myHand = results.multi_hand_landmarks[0]  \n",
    "        for id, lm in enumerate(myHand.landmark):\n",
    "            h, w, c = frame.shape\n",
    "            cx, cy = int(lm.x * w), int(lm.y * h)\n",
    "            lmList.append([id, cx, cy])\n",
    "        \n",
    "    \n",
    "    # check funid finger\n",
    "    if len(lmList) != 0:\n",
    "        # list count finger\n",
    "        fingers = []\n",
    "        for tips in tipsId:  # tipsId --> loc top finger\n",
    "            if tips == 4:    # if for finger shast --> loc x\n",
    "                if lmList[tips][1] > lmList[tips-1][1]:\n",
    "                    fingers.append(0)\n",
    "                else:\n",
    "                    fingers.append(1)\n",
    "            else:            # if for any fingers  --> locy\n",
    "                if lmList[tips][2] < lmList[tips-2][2]:\n",
    "                    fingers.append(1)\n",
    "                else:\n",
    "                    fingers.append(0)\n",
    "        \n",
    "        # count fingers open\n",
    "        totalfingers = fingers.count(1)\n",
    "        # drew\n",
    "        cv2.rectangle(frame, (20, 460), (150, 330), (0, 255, 0), cv2.FILLED)\n",
    "        cv2.putText(frame, str(totalfingers), (40, 450), cv2.FONT_HERSHEY_PLAIN,\n",
    "                     10, (255, 0, 0), 10)\n",
    "                    \n",
    "    # cal frame per sec\n",
    "    CTime = time.time()\n",
    "    fps = 1 / (CTime - PTime)\n",
    "    PTime = CTime\n",
    "    # put frame per sec\n",
    "    cv2.putText(frame, str(int(fps)), (10, 70), cv2.FONT_HERSHEY_PLAIN, 3, (255, 0, 255), 3)\n",
    "    \n",
    "    cv2.imshow(\"image\", frame)\n",
    "    if cv2.waitKey(1) == ord(\"q\"):\n",
    "        break\n",
    "\n",
    "cv2.destroyAllWindows()\n",
    "cap.release()"
   ]
  },
  {
   "cell_type": "markdown",
   "id": "e860432d",
   "metadata": {},
   "source": [
    "<div class=\"alert alert-block alert-info\">\n",
    "<div style=\"direction:rtl;text-align:left\"><strong>MediaPipe</strong><br>MohammadReza <strong>Khajedaloi</strong><br><br>\n",
    "</div>\n",
    "<div style=\"direction:rtl;text-align:right\">\n",
    "<a href=\"http://mohammadkh.ir/\">WebSite</a> - <a href=\"https://github.com/khajedaloi/\">GitHub</a> - <a href=\"https://www.linkedin.com/in/mohammad-kh/\">Linkedin</a>\n",
    "</div>\n",
    "</div>"
   ]
  }
 ],
 "metadata": {
  "kernelspec": {
   "display_name": "deep",
   "language": "python",
   "name": "deep_"
  },
  "language_info": {
   "codemirror_mode": {
    "name": "ipython",
    "version": 3
   },
   "file_extension": ".py",
   "mimetype": "text/x-python",
   "name": "python",
   "nbconvert_exporter": "python",
   "pygments_lexer": "ipython3",
   "version": "3.9.7"
  }
 },
 "nbformat": 4,
 "nbformat_minor": 5
}
