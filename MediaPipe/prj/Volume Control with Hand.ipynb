{
 "cells": [
  {
   "cell_type": "markdown",
   "id": "2b3ec8b6",
   "metadata": {},
   "source": [
    "<div style=\"direction:rtl;text-align:center\"><img src=\"https://dl.mohammadkh.ir/logo.png\" alt=\"Mohammadkh.ir\" style=\"width: 250px;\"/></div>\n",
    "<h1><div style=\"direction:rtl;text-align:center\">MediaPipe</div></h1>"
   ]
  },
  {
   "cell_type": "code",
   "execution_count": 1,
   "id": "0590594f",
   "metadata": {},
   "outputs": [],
   "source": [
    "import cv2\n",
    "import mediapipe as mp\n",
    "import math\n",
    "import numpy as np\n",
    "from ctypes import cast, POINTER\n",
    "from comtypes import CLSCTX_ALL\n",
    "from pycaw.pycaw import AudioUtilities, IAudioEndpointVolume"
   ]
  },
  {
   "cell_type": "code",
   "execution_count": 2,
   "id": "dd8043ff",
   "metadata": {},
   "outputs": [],
   "source": [
    "# detector\n",
    "mp_hands = mp.solutions.hands\n",
    "hands = mp_hands.Hands(\n",
    "    model_complexity=0,\n",
    "    min_detection_confidence=0.5,\n",
    "    min_tracking_confidence=0.5)\n",
    "\n",
    "\n",
    "mp_drawing = mp.solutions.drawing_utils\n",
    "mp_drawing_styles = mp.solutions.drawing_styles"
   ]
  },
  {
   "cell_type": "code",
   "execution_count": 3,
   "id": "fcae2edd",
   "metadata": {},
   "outputs": [],
   "source": [
    "# find and read speaker\n",
    "devices = AudioUtilities.GetSpeakers()\n",
    "interface = devices.Activate(IAudioEndpointVolume._iid_, CLSCTX_ALL, None)\n",
    "volume = cast(interface, POINTER(IAudioEndpointVolume))\n",
    "\n",
    "# get vol rage pc\n",
    "volRange = volume.GetVolumeRange()\n",
    "minVol , maxVol , volBar, volPer= volRange[0] , volRange[1], 400, 0"
   ]
  },
  {
   "cell_type": "code",
   "execution_count": 4,
   "id": "ff0d52ac",
   "metadata": {},
   "outputs": [
    {
     "data": {
      "text/plain": [
       "True"
      ]
     },
     "execution_count": 4,
     "metadata": {},
     "output_type": "execute_result"
    }
   ],
   "source": [
    "# size frame\n",
    "wCam, hCam = 640, 480\n",
    "cam = cv2.VideoCapture(0)\n",
    "cam.set(3,wCam)\n",
    "cam.set(4,hCam)"
   ]
  },
  {
   "cell_type": "code",
   "execution_count": 5,
   "id": "d58c8327",
   "metadata": {},
   "outputs": [],
   "source": [
    "\n",
    "\n",
    "while cam.isOpened():\n",
    "    # read frame\n",
    "    success, image = cam.read()\n",
    "    \n",
    "    # preproccess\n",
    "    image = cv2.flip(image, 1)\n",
    "    image = cv2.cvtColor(image, cv2.COLOR_BGR2RGB)\n",
    "    results = hands.process(image)\n",
    "    image = cv2.cvtColor(image, cv2.COLOR_RGB2BGR)\n",
    "    \n",
    "    \n",
    "    # check funid hand\n",
    "    if results.multi_hand_landmarks:\n",
    "        # drew landmarks hands\n",
    "        for hand_landmarks in results.multi_hand_landmarks:\n",
    "            mp_drawing.draw_landmarks(\n",
    "                image,\n",
    "                hand_landmarks,\n",
    "                mp_hands.HAND_CONNECTIONS,\n",
    "                mp_drawing_styles.get_default_hand_landmarks_style(),\n",
    "                mp_drawing_styles.get_default_hand_connections_style()\n",
    "                )\n",
    "\n",
    "    # list loc finger     \n",
    "    lmList = []\n",
    "    # check funid hand\n",
    "    if results.multi_hand_landmarks:\n",
    "        myHand = results.multi_hand_landmarks[0] # 0 --> hand 1\n",
    "        for id, lm in enumerate(myHand.landmark):\n",
    "            h, w, c = image.shape\n",
    "            cx, cy = int(lm.x * w), int(lm.y * h)\n",
    "            lmList.append([id, cx, cy])          \n",
    "\n",
    "    # check funid finger\n",
    "    if len(lmList) != 0:\n",
    "        # cal target finger\n",
    "        x1, y1 = lmList[4][1], lmList[4][2]  # 4 - 8 pointer hand\n",
    "        x2, y2 = lmList[8][1], lmList[8][2]\n",
    "\n",
    "        # drew \n",
    "        cv2.circle(image, (x1,y1),15,(255,255,255))  \n",
    "        cv2.circle(image, (x2,y2),15,(255,255,255))   \n",
    "        cv2.line(image,(x1,y1),(x2,y2),(0,255,0),3)\n",
    "        length = math.hypot(x2-x1,y2-y1)\n",
    "        if length < 50 or length > 220:\n",
    "            cv2.line(image,(x1,y1),(x2,y2),(0,0,255),3)\n",
    "        \n",
    "        # set volume\n",
    "        ## conv len to range\n",
    "        vol = np.interp(length, [50, 220], [minVol, maxVol]) # convert lenth to volume rang\n",
    "        volume.SetMasterVolumeLevel(vol, None)\n",
    "        \n",
    "        # drew Volume Bar\n",
    "        volBar = np.interp(length, [50, 220], [400, 150])\n",
    "        volPer = np.interp(length, [50, 220], [0, 100])\n",
    "        cv2.rectangle(image, (50, 150), (85, 400), (0, 0, 0), 3)\n",
    "        cv2.rectangle(image, (50, int(volBar)), (85, 400), (0, 0, 0), -1)\n",
    "        cv2.putText(image, f'{int(volPer)} %', (40, 450), cv2.FONT_HERSHEY_COMPLEX, 1, (0, 0, 0), 3)\n",
    "\n",
    "    cv2.imshow('handDetector', image) \n",
    "    if cv2.waitKey(1) == ord(\"q\"):\n",
    "        break\n",
    "cam.release()\n",
    "cv2.destroyAllWindows()"
   ]
  },
  {
   "cell_type": "markdown",
   "id": "dcc763e4",
   "metadata": {},
   "source": [
    "<div class=\"alert alert-block alert-info\">\n",
    "<div style=\"direction:rtl;text-align:left\"><strong>MediaPipe</strong><br>MohammadReza <strong>Khajedaloi</strong><br><br>\n",
    "</div>\n",
    "<div style=\"direction:rtl;text-align:right\">\n",
    "<a href=\"http://mohammadkh.ir/\">WebSite</a> - <a href=\"https://github.com/khajedaloi/\">GitHub</a> - <a href=\"https://www.linkedin.com/in/mohammad-kh/\">Linkedin</a>\n",
    "</div>\n",
    "</div>"
   ]
  }
 ],
 "metadata": {
  "kernelspec": {
   "display_name": "deep",
   "language": "python",
   "name": "deep_"
  },
  "language_info": {
   "codemirror_mode": {
    "name": "ipython",
    "version": 3
   },
   "file_extension": ".py",
   "mimetype": "text/x-python",
   "name": "python",
   "nbconvert_exporter": "python",
   "pygments_lexer": "ipython3",
   "version": "3.9.7"
  }
 },
 "nbformat": 4,
 "nbformat_minor": 5
}
