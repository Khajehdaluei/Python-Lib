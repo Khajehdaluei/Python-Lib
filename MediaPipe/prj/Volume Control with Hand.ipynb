{
 "cells": [
  {
   "cell_type": "code",
   "execution_count": 2,
   "id": "0590594f",
   "metadata": {},
   "outputs": [],
   "source": [
    "import cv2\n",
    "import mediapipe as mp\n",
    "import math\n",
    "import numpy as np\n",
    "from ctypes import cast, POINTER\n",
    "from comtypes import CLSCTX_ALL\n",
    "from pycaw.pycaw import AudioUtilities, IAudioEndpointVolume"
   ]
  },
  {
   "cell_type": "code",
   "execution_count": 3,
   "id": "dd8043ff",
   "metadata": {},
   "outputs": [],
   "source": [
    "mp_hands = mp.solutions.hands\n",
    "mp_drawing = mp.solutions.drawing_utils\n",
    "mp_drawing_styles = mp.solutions.drawing_styles"
   ]
  },
  {
   "cell_type": "code",
   "execution_count": 4,
   "id": "fcae2edd",
   "metadata": {},
   "outputs": [],
   "source": [
    "devices = AudioUtilities.GetSpeakers()\n",
    "interface = devices.Activate(IAudioEndpointVolume._iid_, CLSCTX_ALL, None)\n",
    "volume = cast(interface, POINTER(IAudioEndpointVolume))\n",
    "volRange = volume.GetVolumeRange()\n",
    "minVol , maxVol , volBar, volPer= volRange[0] , volRange[1], 400, 0"
   ]
  },
  {
   "cell_type": "code",
   "execution_count": 5,
   "id": "ff0d52ac",
   "metadata": {},
   "outputs": [
    {
     "data": {
      "text/plain": [
       "True"
      ]
     },
     "execution_count": 5,
     "metadata": {},
     "output_type": "execute_result"
    }
   ],
   "source": [
    "wCam, hCam = 640, 480\n",
    "cam = cv2.VideoCapture(0)\n",
    "cam.set(3,wCam)\n",
    "cam.set(4,hCam)"
   ]
  },
  {
   "cell_type": "code",
   "execution_count": 6,
   "id": "d58c8327",
   "metadata": {},
   "outputs": [],
   "source": [
    "hands = mp_hands.Hands(\n",
    "    model_complexity=0,\n",
    "    min_detection_confidence=0.5,\n",
    "    min_tracking_confidence=0.5)\n",
    "\n",
    "while cam.isOpened():\n",
    "    success, image = cam.read()\n",
    "\n",
    "    image = cv2.cvtColor(image, cv2.COLOR_BGR2RGB)\n",
    "    results = hands.process(image)\n",
    "    image = cv2.cvtColor(image, cv2.COLOR_RGB2BGR)\n",
    "    if results.multi_hand_landmarks:\n",
    "        for hand_landmarks in results.multi_hand_landmarks:\n",
    "            mp_drawing.draw_landmarks(\n",
    "                image,\n",
    "                hand_landmarks,\n",
    "                mp_hands.HAND_CONNECTIONS,\n",
    "                mp_drawing_styles.get_default_hand_landmarks_style(),\n",
    "                mp_drawing_styles.get_default_hand_connections_style()\n",
    "                )\n",
    "\n",
    "    # multi_hand_landmarks method for Finding postion of Hand landmarks      \n",
    "    lmList = []\n",
    "    if results.multi_hand_landmarks:\n",
    "        myHand = results.multi_hand_landmarks[0] # 0 --> hand 1\n",
    "        for id, lm in enumerate(myHand.landmark):\n",
    "            h, w, c = image.shape\n",
    "            cx, cy = int(lm.x * w), int(lm.y * h)\n",
    "            lmList.append([id, cx, cy])          \n",
    "\n",
    "    # Assigning variables for Thumb and Index finger position\n",
    "    if len(lmList) != 0:\n",
    "        x1, y1 = lmList[4][1], lmList[4][2]  # 4 - 8 pointer hand\n",
    "        x2, y2 = lmList[8][1], lmList[8][2]\n",
    "\n",
    "        # Marking Thumb and Index finger\n",
    "        cv2.circle(image, (x1,y1),15,(255,255,255))  \n",
    "        cv2.circle(image, (x2,y2),15,(255,255,255))   \n",
    "        cv2.line(image,(x1,y1),(x2,y2),(0,255,0),3)\n",
    "        length = math.hypot(x2-x1,y2-y1)\n",
    "        if length < 50 or length > 220:\n",
    "            cv2.line(image,(x1,y1),(x2,y2),(0,0,255),3)\n",
    "        \n",
    "        #set volume\n",
    "        vol = np.interp(length, [50, 220], [minVol, maxVol]) # convert lenth to volume rang\n",
    "        volume.SetMasterVolumeLevel(vol, None)\n",
    "        \n",
    "        # Volume Bar\n",
    "        volBar = np.interp(length, [50, 220], [400, 150])\n",
    "        volPer = np.interp(length, [50, 220], [0, 100])\n",
    "        cv2.rectangle(image, (50, 150), (85, 400), (0, 0, 0), 3)\n",
    "        cv2.rectangle(image, (50, int(volBar)), (85, 400), (0, 0, 0), cv2.FILLED)\n",
    "        cv2.putText(image, f'{int(volPer)} %', (40, 450), cv2.FONT_HERSHEY_COMPLEX,\n",
    "                1, (0, 0, 0), 3)\n",
    "\n",
    "    cv2.imshow('handDetector', image) \n",
    "    if cv2.waitKey(1) == 13: #13 is the Enter Key\n",
    "        break\n",
    "cam.release()"
   ]
  },
  {
   "cell_type": "code",
   "execution_count": null,
   "id": "77ce5087",
   "metadata": {},
   "outputs": [],
   "source": []
  }
 ],
 "metadata": {
  "kernelspec": {
   "display_name": "deep",
   "language": "python",
   "name": "deep_"
  },
  "language_info": {
   "codemirror_mode": {
    "name": "ipython",
    "version": 3
   },
   "file_extension": ".py",
   "mimetype": "text/x-python",
   "name": "python",
   "nbconvert_exporter": "python",
   "pygments_lexer": "ipython3",
   "version": "3.9.7"
  }
 },
 "nbformat": 4,
 "nbformat_minor": 5
}
