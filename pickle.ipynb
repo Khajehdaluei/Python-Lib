{
 "cells": [
  {
   "cell_type": "markdown",
   "id": "4cc0fab3",
   "metadata": {},
   "source": [
    "### Save all Object in Variable  Or File"
   ]
  },
  {
   "cell_type": "code",
   "execution_count": null,
   "id": "fe593ca3",
   "metadata": {},
   "outputs": [],
   "source": [
    "import pickle"
   ]
  },
  {
   "cell_type": "code",
   "execution_count": null,
   "id": "3dfbcde1",
   "metadata": {},
   "outputs": [],
   "source": [
    "dogs_dict = { 'Ozzy': 3, 'Filou': 8, 'Luna': 5, 'Skippy': 10, 'Barco': 12, 'Balou': 9, 'Laika': 16 }"
   ]
  },
  {
   "cell_type": "markdown",
   "id": "7ac801c7",
   "metadata": {},
   "source": [
    "### in Variable"
   ]
  },
  {
   "cell_type": "code",
   "execution_count": 17,
   "id": "15227944",
   "metadata": {},
   "outputs": [
    {
     "name": "stdout",
     "output_type": "stream",
     "text": [
      "b'\\x80\\x04\\x95J\\x00\\x00\\x00\\x00\\x00\\x00\\x00}\\x94(\\x8c\\x04Ozzy\\x94K\\x03\\x8c\\x05Filou\\x94K\\x08\\x8c\\x04Luna\\x94K\\x05\\x8c\\x06Skippy\\x94K\\n\\x8c\\x05Barco\\x94K\\x0c\\x8c\\x05Balou\\x94K\\t\\x8c\\x05Laika\\x94K\\x10u.'\n"
     ]
    }
   ],
   "source": [
    "rezult = pickle.dumps(dogs_dict)\n",
    "\n",
    "print(rezult)"
   ]
  },
  {
   "cell_type": "code",
   "execution_count": 19,
   "id": "3dc9787a",
   "metadata": {},
   "outputs": [
    {
     "name": "stdout",
     "output_type": "stream",
     "text": [
      "{'Ozzy': 3, 'Filou': 8, 'Luna': 5, 'Skippy': 10, 'Barco': 12, 'Balou': 9, 'Laika': 16}\n"
     ]
    }
   ],
   "source": [
    "rezult = pickle.loads(rezult)\n",
    "\n",
    "print(rezult)"
   ]
  },
  {
   "cell_type": "markdown",
   "id": "5672d7a1",
   "metadata": {},
   "source": [
    "## in File"
   ]
  },
  {
   "cell_type": "code",
   "execution_count": null,
   "id": "5b37e34c",
   "metadata": {},
   "outputs": [],
   "source": [
    "filename = 'pickle_file'"
   ]
  },
  {
   "cell_type": "code",
   "execution_count": 13,
   "id": "800f6a1b",
   "metadata": {},
   "outputs": [
    {
     "name": "stdout",
     "output_type": "stream",
     "text": [
      "None\n"
     ]
    }
   ],
   "source": [
    "# f = open(filename,'wb')\n",
    "# rezult = pickle.dump(dogs_dict,f)\n",
    "# f.close()\n",
    "\n",
    "# #OR\n",
    "\n",
    "with open(filename,'wb') as f :\n",
    "    rezult = pickle.dump(dogs_dict,f)\n",
    "\n",
    "print(rezult)"
   ]
  },
  {
   "cell_type": "code",
   "execution_count": 15,
   "id": "290d23bb",
   "metadata": {},
   "outputs": [
    {
     "name": "stdout",
     "output_type": "stream",
     "text": [
      "{'Ozzy': 3, 'Filou': 8, 'Luna': 5, 'Skippy': 10, 'Barco': 12, 'Balou': 9, 'Laika': 16}\n"
     ]
    }
   ],
   "source": [
    "# f = open(filename,'rb')\n",
    "# rezult = pickle.load(f)\n",
    "# f.close()\n",
    "\n",
    "# OR\n",
    "\n",
    "with open(filename,'rb') as f :\n",
    "    rezult = pickle.load(f)\n",
    "\n",
    "print(rezult)\n"
   ]
  }
 ],
 "metadata": {
  "kernelspec": {
   "display_name": "deep",
   "language": "python",
   "name": "deep_"
  },
  "language_info": {
   "codemirror_mode": {
    "name": "ipython",
    "version": 3
   },
   "file_extension": ".py",
   "mimetype": "text/x-python",
   "name": "python",
   "nbconvert_exporter": "python",
   "pygments_lexer": "ipython3",
   "version": "3.9.7"
  }
 },
 "nbformat": 4,
 "nbformat_minor": 5
}
